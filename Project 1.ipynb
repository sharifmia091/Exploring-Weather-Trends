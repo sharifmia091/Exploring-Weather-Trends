{
 "cells": [
  {
   "cell_type": "markdown",
   "metadata": {},
   "source": [
    "### The SQL query used to extract the data is included.\n",
    "\n",
    "```\n",
    "select *\n",
    "from city_data\n",
    "where city = 'New York'\n",
    "\n",
    "\n",
    "select *\n",
    "from city_data\n",
    "where city = 'Los Angeles'\n",
    "\n",
    "\n",
    "select *\n",
    "from global_data\n",
    "\n",
    "```"
   ]
  },
  {
   "cell_type": "markdown",
   "metadata": {},
   "source": [
    "#### csv File is stored in the folder and analized and visualized with python panda as follows "
   ]
  },
  {
   "cell_type": "code",
   "execution_count": 1,
   "metadata": {},
   "outputs": [],
   "source": [
    "import pandas as pd\n",
    "import numpy as np\n",
    "import matplotlib.pyplot as plt\n",
    "%matplotlib inline "
   ]
  },
  {
   "cell_type": "code",
   "execution_count": 2,
   "metadata": {},
   "outputs": [],
   "source": [
    "nyc_data = pd.read_csv('NYC.csv')"
   ]
  },
  {
   "cell_type": "code",
   "execution_count": 3,
   "metadata": {},
   "outputs": [],
   "source": [
    "globle_data = pd.read_csv('Global_data.csv')"
   ]
  },
  {
   "cell_type": "code",
   "execution_count": 4,
   "metadata": {},
   "outputs": [],
   "source": [
    "los_angeles_data = pd.read_csv('los_angeles.csv')"
   ]
  },
  {
   "cell_type": "code",
   "execution_count": 5,
   "metadata": {},
   "outputs": [],
   "source": [
    "result= pd.merge(nyc_data,los_angeles_data, on = 'year' )"
   ]
  },
  {
   "cell_type": "code",
   "execution_count": 6,
   "metadata": {},
   "outputs": [],
   "source": [
    "f_result = pd.merge(result, globle_data, on='year')"
   ]
  },
  {
   "cell_type": "code",
   "execution_count": 7,
   "metadata": {},
   "outputs": [
    {
     "data": {
      "text/html": [
       "<div>\n",
       "<style scoped>\n",
       "    .dataframe tbody tr th:only-of-type {\n",
       "        vertical-align: middle;\n",
       "    }\n",
       "\n",
       "    .dataframe tbody tr th {\n",
       "        vertical-align: top;\n",
       "    }\n",
       "\n",
       "    .dataframe thead th {\n",
       "        text-align: right;\n",
       "    }\n",
       "</style>\n",
       "<table border=\"1\" class=\"dataframe\">\n",
       "  <thead>\n",
       "    <tr style=\"text-align: right;\">\n",
       "      <th></th>\n",
       "      <th>year</th>\n",
       "      <th>city_x</th>\n",
       "      <th>country_x</th>\n",
       "      <th>avg_temp_x</th>\n",
       "      <th>city_y</th>\n",
       "      <th>country_y</th>\n",
       "      <th>avg_temp_y</th>\n",
       "      <th>avg_temp</th>\n",
       "    </tr>\n",
       "  </thead>\n",
       "  <tbody>\n",
       "    <tr>\n",
       "      <th>0</th>\n",
       "      <td>1849</td>\n",
       "      <td>New York</td>\n",
       "      <td>United States</td>\n",
       "      <td>8.83</td>\n",
       "      <td>Los Angeles</td>\n",
       "      <td>United States</td>\n",
       "      <td>15.71</td>\n",
       "      <td>7.98</td>\n",
       "    </tr>\n",
       "    <tr>\n",
       "      <th>1</th>\n",
       "      <td>1850</td>\n",
       "      <td>New York</td>\n",
       "      <td>United States</td>\n",
       "      <td>9.10</td>\n",
       "      <td>Los Angeles</td>\n",
       "      <td>United States</td>\n",
       "      <td>15.28</td>\n",
       "      <td>7.90</td>\n",
       "    </tr>\n",
       "    <tr>\n",
       "      <th>2</th>\n",
       "      <td>1851</td>\n",
       "      <td>New York</td>\n",
       "      <td>United States</td>\n",
       "      <td>9.26</td>\n",
       "      <td>Los Angeles</td>\n",
       "      <td>United States</td>\n",
       "      <td>15.53</td>\n",
       "      <td>8.18</td>\n",
       "    </tr>\n",
       "    <tr>\n",
       "      <th>3</th>\n",
       "      <td>1852</td>\n",
       "      <td>New York</td>\n",
       "      <td>United States</td>\n",
       "      <td>8.98</td>\n",
       "      <td>Los Angeles</td>\n",
       "      <td>United States</td>\n",
       "      <td>15.61</td>\n",
       "      <td>8.10</td>\n",
       "    </tr>\n",
       "    <tr>\n",
       "      <th>4</th>\n",
       "      <td>1853</td>\n",
       "      <td>New York</td>\n",
       "      <td>United States</td>\n",
       "      <td>9.68</td>\n",
       "      <td>Los Angeles</td>\n",
       "      <td>United States</td>\n",
       "      <td>16.27</td>\n",
       "      <td>8.04</td>\n",
       "    </tr>\n",
       "  </tbody>\n",
       "</table>\n",
       "</div>"
      ],
      "text/plain": [
       "   year    city_x      country_x  avg_temp_x       city_y      country_y  \\\n",
       "0  1849  New York  United States        8.83  Los Angeles  United States   \n",
       "1  1850  New York  United States        9.10  Los Angeles  United States   \n",
       "2  1851  New York  United States        9.26  Los Angeles  United States   \n",
       "3  1852  New York  United States        8.98  Los Angeles  United States   \n",
       "4  1853  New York  United States        9.68  Los Angeles  United States   \n",
       "\n",
       "   avg_temp_y  avg_temp  \n",
       "0       15.71      7.98  \n",
       "1       15.28      7.90  \n",
       "2       15.53      8.18  \n",
       "3       15.61      8.10  \n",
       "4       16.27      8.04  "
      ]
     },
     "execution_count": 7,
     "metadata": {},
     "output_type": "execute_result"
    }
   ],
   "source": [
    "f_result.head()"
   ]
  },
  {
   "cell_type": "code",
   "execution_count": 8,
   "metadata": {},
   "outputs": [],
   "source": [
    "f_result['new_york_temp']=f_result['avg_temp_x']\n",
    "f_result['los_angeles_temp']=f_result['avg_temp_y']\n",
    "f_result['globle_temp'] = f_result['avg_temp'] "
   ]
  },
  {
   "cell_type": "code",
   "execution_count": 9,
   "metadata": {},
   "outputs": [],
   "source": [
    "select = ['year', 'new_york_temp', 'los_angeles_temp', 'globle_temp']"
   ]
  },
  {
   "cell_type": "code",
   "execution_count": 10,
   "metadata": {},
   "outputs": [],
   "source": [
    "temp_comp= f_result[select]"
   ]
  },
  {
   "cell_type": "markdown",
   "metadata": {},
   "source": [
    "## 7 Day Moving Average calculation"
   ]
  },
  {
   "cell_type": "code",
   "execution_count": 11,
   "metadata": {},
   "outputs": [
    {
     "name": "stderr",
     "output_type": "stream",
     "text": [
      "E:\\soft\\lib\\site-packages\\ipykernel_launcher.py:1: SettingWithCopyWarning: \n",
      "A value is trying to be set on a copy of a slice from a DataFrame.\n",
      "Try using .loc[row_indexer,col_indexer] = value instead\n",
      "\n",
      "See the caveats in the documentation: https://pandas.pydata.org/pandas-docs/stable/user_guide/indexing.html#returning-a-view-versus-a-copy\n",
      "  \"\"\"Entry point for launching an IPython kernel.\n",
      "E:\\soft\\lib\\site-packages\\ipykernel_launcher.py:2: SettingWithCopyWarning: \n",
      "A value is trying to be set on a copy of a slice from a DataFrame.\n",
      "Try using .loc[row_indexer,col_indexer] = value instead\n",
      "\n",
      "See the caveats in the documentation: https://pandas.pydata.org/pandas-docs/stable/user_guide/indexing.html#returning-a-view-versus-a-copy\n",
      "  \n",
      "E:\\soft\\lib\\site-packages\\ipykernel_launcher.py:3: SettingWithCopyWarning: \n",
      "A value is trying to be set on a copy of a slice from a DataFrame.\n",
      "Try using .loc[row_indexer,col_indexer] = value instead\n",
      "\n",
      "See the caveats in the documentation: https://pandas.pydata.org/pandas-docs/stable/user_guide/indexing.html#returning-a-view-versus-a-copy\n",
      "  This is separate from the ipykernel package so we can avoid doing imports until\n"
     ]
    }
   ],
   "source": [
    "temp_comp['new_york_temp_7MA']= temp_comp['new_york_temp'].rolling(7).mean()\n",
    "temp_comp['los_angeles_temp_7MA']= temp_comp['los_angeles_temp'].rolling(7).mean()\n",
    "temp_comp['globle_temp_7MA']= temp_comp['globle_temp'].rolling(7).mean()"
   ]
  },
  {
   "cell_type": "code",
   "execution_count": 12,
   "metadata": {
    "scrolled": false
   },
   "outputs": [
    {
     "data": {
      "text/html": [
       "<div>\n",
       "<style scoped>\n",
       "    .dataframe tbody tr th:only-of-type {\n",
       "        vertical-align: middle;\n",
       "    }\n",
       "\n",
       "    .dataframe tbody tr th {\n",
       "        vertical-align: top;\n",
       "    }\n",
       "\n",
       "    .dataframe thead th {\n",
       "        text-align: right;\n",
       "    }\n",
       "</style>\n",
       "<table border=\"1\" class=\"dataframe\">\n",
       "  <thead>\n",
       "    <tr style=\"text-align: right;\">\n",
       "      <th></th>\n",
       "      <th>year</th>\n",
       "      <th>new_york_temp</th>\n",
       "      <th>los_angeles_temp</th>\n",
       "      <th>globle_temp</th>\n",
       "      <th>new_york_temp_7MA</th>\n",
       "      <th>los_angeles_temp_7MA</th>\n",
       "      <th>globle_temp_7MA</th>\n",
       "    </tr>\n",
       "  </thead>\n",
       "  <tbody>\n",
       "    <tr>\n",
       "      <th>0</th>\n",
       "      <td>1849</td>\n",
       "      <td>8.83</td>\n",
       "      <td>15.71</td>\n",
       "      <td>7.98</td>\n",
       "      <td>NaN</td>\n",
       "      <td>NaN</td>\n",
       "      <td>NaN</td>\n",
       "    </tr>\n",
       "    <tr>\n",
       "      <th>1</th>\n",
       "      <td>1850</td>\n",
       "      <td>9.10</td>\n",
       "      <td>15.28</td>\n",
       "      <td>7.90</td>\n",
       "      <td>NaN</td>\n",
       "      <td>NaN</td>\n",
       "      <td>NaN</td>\n",
       "    </tr>\n",
       "    <tr>\n",
       "      <th>2</th>\n",
       "      <td>1851</td>\n",
       "      <td>9.26</td>\n",
       "      <td>15.53</td>\n",
       "      <td>8.18</td>\n",
       "      <td>NaN</td>\n",
       "      <td>NaN</td>\n",
       "      <td>NaN</td>\n",
       "    </tr>\n",
       "    <tr>\n",
       "      <th>3</th>\n",
       "      <td>1852</td>\n",
       "      <td>8.98</td>\n",
       "      <td>15.61</td>\n",
       "      <td>8.10</td>\n",
       "      <td>NaN</td>\n",
       "      <td>NaN</td>\n",
       "      <td>NaN</td>\n",
       "    </tr>\n",
       "    <tr>\n",
       "      <th>4</th>\n",
       "      <td>1853</td>\n",
       "      <td>9.68</td>\n",
       "      <td>16.27</td>\n",
       "      <td>8.04</td>\n",
       "      <td>NaN</td>\n",
       "      <td>NaN</td>\n",
       "      <td>NaN</td>\n",
       "    </tr>\n",
       "    <tr>\n",
       "      <th>5</th>\n",
       "      <td>1854</td>\n",
       "      <td>9.56</td>\n",
       "      <td>15.74</td>\n",
       "      <td>8.21</td>\n",
       "      <td>NaN</td>\n",
       "      <td>NaN</td>\n",
       "      <td>NaN</td>\n",
       "    </tr>\n",
       "    <tr>\n",
       "      <th>6</th>\n",
       "      <td>1855</td>\n",
       "      <td>9.11</td>\n",
       "      <td>10.20</td>\n",
       "      <td>8.11</td>\n",
       "      <td>9.217143</td>\n",
       "      <td>14.905714</td>\n",
       "      <td>8.074286</td>\n",
       "    </tr>\n",
       "    <tr>\n",
       "      <th>7</th>\n",
       "      <td>1855</td>\n",
       "      <td>9.11</td>\n",
       "      <td>15.94</td>\n",
       "      <td>8.11</td>\n",
       "      <td>9.257143</td>\n",
       "      <td>14.938571</td>\n",
       "      <td>8.092857</td>\n",
       "    </tr>\n",
       "    <tr>\n",
       "      <th>8</th>\n",
       "      <td>1856</td>\n",
       "      <td>8.20</td>\n",
       "      <td>12.01</td>\n",
       "      <td>8.00</td>\n",
       "      <td>9.128571</td>\n",
       "      <td>14.471429</td>\n",
       "      <td>8.107143</td>\n",
       "    </tr>\n",
       "    <tr>\n",
       "      <th>9</th>\n",
       "      <td>1856</td>\n",
       "      <td>8.20</td>\n",
       "      <td>15.52</td>\n",
       "      <td>8.00</td>\n",
       "      <td>8.977143</td>\n",
       "      <td>14.470000</td>\n",
       "      <td>8.081429</td>\n",
       "    </tr>\n",
       "    <tr>\n",
       "      <th>10</th>\n",
       "      <td>1857</td>\n",
       "      <td>8.52</td>\n",
       "      <td>12.06</td>\n",
       "      <td>7.76</td>\n",
       "      <td>8.911429</td>\n",
       "      <td>13.962857</td>\n",
       "      <td>8.032857</td>\n",
       "    </tr>\n",
       "    <tr>\n",
       "      <th>11</th>\n",
       "      <td>1857</td>\n",
       "      <td>8.52</td>\n",
       "      <td>16.19</td>\n",
       "      <td>7.76</td>\n",
       "      <td>8.745714</td>\n",
       "      <td>13.951429</td>\n",
       "      <td>7.992857</td>\n",
       "    </tr>\n",
       "    <tr>\n",
       "      <th>12</th>\n",
       "      <td>1858</td>\n",
       "      <td>9.13</td>\n",
       "      <td>12.13</td>\n",
       "      <td>8.10</td>\n",
       "      <td>8.684286</td>\n",
       "      <td>13.435714</td>\n",
       "      <td>7.977143</td>\n",
       "    </tr>\n",
       "    <tr>\n",
       "      <th>13</th>\n",
       "      <td>1858</td>\n",
       "      <td>9.13</td>\n",
       "      <td>15.67</td>\n",
       "      <td>8.10</td>\n",
       "      <td>8.687143</td>\n",
       "      <td>14.217143</td>\n",
       "      <td>7.975714</td>\n",
       "    </tr>\n",
       "    <tr>\n",
       "      <th>14</th>\n",
       "      <td>1859</td>\n",
       "      <td>9.17</td>\n",
       "      <td>12.39</td>\n",
       "      <td>8.25</td>\n",
       "      <td>8.695714</td>\n",
       "      <td>13.710000</td>\n",
       "      <td>7.995714</td>\n",
       "    </tr>\n",
       "    <tr>\n",
       "      <th>15</th>\n",
       "      <td>1859</td>\n",
       "      <td>9.17</td>\n",
       "      <td>15.29</td>\n",
       "      <td>8.25</td>\n",
       "      <td>8.834286</td>\n",
       "      <td>14.178571</td>\n",
       "      <td>8.031429</td>\n",
       "    </tr>\n",
       "    <tr>\n",
       "      <th>16</th>\n",
       "      <td>1860</td>\n",
       "      <td>9.18</td>\n",
       "      <td>12.07</td>\n",
       "      <td>7.96</td>\n",
       "      <td>8.974286</td>\n",
       "      <td>13.685714</td>\n",
       "      <td>8.025714</td>\n",
       "    </tr>\n",
       "    <tr>\n",
       "      <th>17</th>\n",
       "      <td>1860</td>\n",
       "      <td>9.18</td>\n",
       "      <td>15.41</td>\n",
       "      <td>7.96</td>\n",
       "      <td>9.068571</td>\n",
       "      <td>14.164286</td>\n",
       "      <td>8.054286</td>\n",
       "    </tr>\n",
       "    <tr>\n",
       "      <th>18</th>\n",
       "      <td>1861</td>\n",
       "      <td>9.47</td>\n",
       "      <td>11.89</td>\n",
       "      <td>7.85</td>\n",
       "      <td>9.204286</td>\n",
       "      <td>13.550000</td>\n",
       "      <td>8.067143</td>\n",
       "    </tr>\n",
       "    <tr>\n",
       "      <th>19</th>\n",
       "      <td>1861</td>\n",
       "      <td>9.47</td>\n",
       "      <td>16.51</td>\n",
       "      <td>7.85</td>\n",
       "      <td>9.252857</td>\n",
       "      <td>14.175714</td>\n",
       "      <td>8.031429</td>\n",
       "    </tr>\n",
       "  </tbody>\n",
       "</table>\n",
       "</div>"
      ],
      "text/plain": [
       "    year  new_york_temp  los_angeles_temp  globle_temp  new_york_temp_7MA  \\\n",
       "0   1849           8.83             15.71         7.98                NaN   \n",
       "1   1850           9.10             15.28         7.90                NaN   \n",
       "2   1851           9.26             15.53         8.18                NaN   \n",
       "3   1852           8.98             15.61         8.10                NaN   \n",
       "4   1853           9.68             16.27         8.04                NaN   \n",
       "5   1854           9.56             15.74         8.21                NaN   \n",
       "6   1855           9.11             10.20         8.11           9.217143   \n",
       "7   1855           9.11             15.94         8.11           9.257143   \n",
       "8   1856           8.20             12.01         8.00           9.128571   \n",
       "9   1856           8.20             15.52         8.00           8.977143   \n",
       "10  1857           8.52             12.06         7.76           8.911429   \n",
       "11  1857           8.52             16.19         7.76           8.745714   \n",
       "12  1858           9.13             12.13         8.10           8.684286   \n",
       "13  1858           9.13             15.67         8.10           8.687143   \n",
       "14  1859           9.17             12.39         8.25           8.695714   \n",
       "15  1859           9.17             15.29         8.25           8.834286   \n",
       "16  1860           9.18             12.07         7.96           8.974286   \n",
       "17  1860           9.18             15.41         7.96           9.068571   \n",
       "18  1861           9.47             11.89         7.85           9.204286   \n",
       "19  1861           9.47             16.51         7.85           9.252857   \n",
       "\n",
       "    los_angeles_temp_7MA  globle_temp_7MA  \n",
       "0                    NaN              NaN  \n",
       "1                    NaN              NaN  \n",
       "2                    NaN              NaN  \n",
       "3                    NaN              NaN  \n",
       "4                    NaN              NaN  \n",
       "5                    NaN              NaN  \n",
       "6              14.905714         8.074286  \n",
       "7              14.938571         8.092857  \n",
       "8              14.471429         8.107143  \n",
       "9              14.470000         8.081429  \n",
       "10             13.962857         8.032857  \n",
       "11             13.951429         7.992857  \n",
       "12             13.435714         7.977143  \n",
       "13             14.217143         7.975714  \n",
       "14             13.710000         7.995714  \n",
       "15             14.178571         8.031429  \n",
       "16             13.685714         8.025714  \n",
       "17             14.164286         8.054286  \n",
       "18             13.550000         8.067143  \n",
       "19             14.175714         8.031429  "
      ]
     },
     "execution_count": 12,
     "metadata": {},
     "output_type": "execute_result"
    }
   ],
   "source": [
    "temp_comp.head(20)"
   ]
  },
  {
   "cell_type": "markdown",
   "metadata": {},
   "source": [
    "## Line chart creation "
   ]
  },
  {
   "cell_type": "code",
   "execution_count": 13,
   "metadata": {},
   "outputs": [
    {
     "data": {
      "text/plain": [
       "<matplotlib.legend.Legend at 0x1fe995cc5c8>"
      ]
     },
     "execution_count": 13,
     "metadata": {},
     "output_type": "execute_result"
    },
    {
     "data": {
      "image/png": "[encoded data removed]",
      "text/plain": [
       "<Figure size 1080x720 with 1 Axes>"
      ]
     },
     "metadata": {
      "needs_background": "light"
     },
     "output_type": "display_data"
    }
   ],
   "source": [
    "plt.figure(figsize=(15,10))\n",
    "plt.grid(True)\n",
    "plt.plot(temp_comp['year'],temp_comp['new_york_temp_7MA'], label=\"NYC Temp 7 years MA\")\n",
    "plt.plot(temp_comp['year'],temp_comp['globle_temp_7MA'], label=\"globle_temp 7 years MA\")\n",
    "plt.plot(temp_comp['year'],temp_comp['los_angeles_temp_7MA'], label=\"los_angeles_temp 7 years MA\")\n",
    "plt.xlabel('Year')\n",
    "plt.ylabel('Temperature in °C')\n",
    "\n",
    "plt.legend(loc=2)\n"
   ]
  },
  {
   "cell_type": "markdown",
   "metadata": {},
   "source": [
    "## Observations"
   ]
  },
  {
   "cell_type": "markdown",
   "metadata": {},
   "source": [
    "1. New york temperatue is almost 1 degree higher then globle average temperater and themperature change flactuation is high rater then globle average temperater.\n",
    "\n",
    "2. Los Angeles temperatue is  almost 4 degree higher the new york and temperature change is less flactuated then new york. \n",
    "\n",
    "3. New york temperature and globle temperature is gradually increase over time, that means world is getting warmer over time.\n",
    "\n",
    "4. Last few years the New york temperature rising faster then the globle temperature."
   ]
  },
  {
   "cell_type": "code",
   "execution_count": null,
   "metadata": {},
   "outputs": [],
   "source": []
  }
 ],
 "metadata": {
  "kernelspec": {
   "display_name": "Python 3",
   "language": "python",
   "name": "python3"
  },
  "language_info": {
   "codemirror_mode": {
    "name": "ipython",
    "version": 3
   },
   "file_extension": ".py",
   "mimetype": "text/x-python",
   "name": "python",
   "nbconvert_exporter": "python",
   "pygments_lexer": "ipython3",
   "version": "3.7.6"
  }
 },
 "nbformat": 4,
 "nbformat_minor": 4
}
